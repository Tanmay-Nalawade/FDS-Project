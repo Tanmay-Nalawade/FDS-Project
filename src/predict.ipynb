{
 "cells": [
  {
   "cell_type": "code",
   "execution_count": 4,
   "metadata": {},
   "outputs": [],
   "source": [
    "import pandas as pd\n",
    "import torch\n",
    "from sklearn.model_selection import train_test_split\n",
    "from transformers import BertTokenizer,BertForSequenceClassification"
   ]
  },
  {
   "cell_type": "code",
   "execution_count": 5,
   "metadata": {},
   "outputs": [
    {
     "name": "stdout",
     "output_type": "stream",
     "text": [
      "                                               title  \\\n",
      "0  Church Congregation Brings Gift to Waitresses ...   \n",
      "1  AWAKENING OF 12 STRANDS of DNA – “Reconnecting...   \n",
      "2  Never Hike Alone - A Friday the 13th Fan Film ...   \n",
      "3  Elusive ‘Alien Of The Sea ‘ Caught By Scientis...   \n",
      "4  Trump’s Genius Poll Is Complete & The Results ...   \n",
      "\n",
      "                                             content           author  \\\n",
      "0  Sometimes the power of Christmas will make you...      Ruth Harris   \n",
      "1  AWAKENING OF 12 STRANDS of DNA – “Reconnecting...     Zurich Times   \n",
      "2  Never Hike Alone: A Friday the 13th Fan Film U...          Unknown   \n",
      "3  When a rare shark was caught, scientists were ...  Alexander Smith   \n",
      "4  Donald Trump has the unnerving ability to abil...  Gloria Christie   \n",
      "\n",
      "  keywords                domain    category  article_length  num_keywords  \\\n",
      "0  Unknown               awm.com  Unverified             506             1   \n",
      "1  Unknown     beforeitsnews.com  Unverified             188             1   \n",
      "2  Unknown           cnnnext.com  Unverified             463             1   \n",
      "3  Unknown               awm.com  Unverified             509             1   \n",
      "4  Unknown  bipartisanreport.com  Unverified             293             1   \n",
      "\n",
      "   fake_news_score  \n",
      "0         0.000000  \n",
      "1         0.000000  \n",
      "2         0.522974  \n",
      "3         0.000000  \n",
      "4         0.000000  \n",
      "<class 'pandas.core.frame.DataFrame'>\n",
      "RangeIndex: 45148 entries, 0 to 45147\n",
      "Data columns (total 9 columns):\n",
      " #   Column           Non-Null Count  Dtype  \n",
      "---  ------           --------------  -----  \n",
      " 0   title            45148 non-null  object \n",
      " 1   content          45148 non-null  object \n",
      " 2   author           45148 non-null  object \n",
      " 3   keywords         45148 non-null  object \n",
      " 4   domain           45148 non-null  object \n",
      " 5   category         45148 non-null  object \n",
      " 6   article_length   45148 non-null  int64  \n",
      " 7   num_keywords     45148 non-null  int64  \n",
      " 8   fake_news_score  45148 non-null  float64\n",
      "dtypes: float64(1), int64(2), object(6)\n",
      "memory usage: 3.1+ MB\n",
      "None\n",
      "category\n",
      "Fake          23481\n",
      "Real          21417\n",
      "Unverified      250\n",
      "Name: count, dtype: int64\n"
     ]
    }
   ],
   "source": [
    "df = pd.read_csv(\"../data/processed_news.csv\")\n",
    "\n",
    "# Check dataset structure\n",
    "print(df.head())\n",
    "print(df.info())\n",
    "\n",
    "# Check class distribution\n",
    "print(df[\"category\"].value_counts())"
   ]
  },
  {
   "cell_type": "code",
   "execution_count": 7,
   "metadata": {},
   "outputs": [],
   "source": [
    "# Encode category labels as numbers\n",
    "category_mapping = {\"Fake\": 0, \"Real\": 1, \"Unverified\": 2}\n",
    "df[\"category\"] = df[\"category\"].map(category_mapping)\n",
    "\n",
    "\n",
    "# This tokenizes the text, applies padding/truncation, and converts it into input tensors for training the BERT model. \n",
    "# Load BERT tokenizer\n",
    "tokenizer = BertTokenizer.from_pretrained(\"bert-base-uncased\")\n",
    "\n",
    "# Tokenize the text\n",
    "encodings = tokenizer(\n",
    "    list(df[\"content\"]),\n",
    "    truncation=True, \n",
    "    padding=True,\n",
    "    max_length=512,\n",
    "    return_tensors=\"pt\")\n",
    "\n",
    "# Split dataset\n",
    "X_train, X_test, y_train, y_test = train_test_split(encodings[\"input_ids\"], df[\"category\"], test_size=0.2, random_state=42)"
   ]
  },
  {
   "cell_type": "code",
   "execution_count": 11,
   "metadata": {},
   "outputs": [
    {
     "name": "stderr",
     "output_type": "stream",
     "text": [
      "Some weights of BertForSequenceClassification were not initialized from the model checkpoint at bert-base-uncased and are newly initialized: ['classifier.bias', 'classifier.weight']\n",
      "You should probably TRAIN this model on a down-stream task to be able to use it for predictions and inference.\n"
     ]
    },
    {
     "data": {
      "text/plain": [
       "BertForSequenceClassification(\n",
       "  (bert): BertModel(\n",
       "    (embeddings): BertEmbeddings(\n",
       "      (word_embeddings): Embedding(30522, 768, padding_idx=0)\n",
       "      (position_embeddings): Embedding(512, 768)\n",
       "      (token_type_embeddings): Embedding(2, 768)\n",
       "      (LayerNorm): LayerNorm((768,), eps=1e-12, elementwise_affine=True)\n",
       "      (dropout): Dropout(p=0.1, inplace=False)\n",
       "    )\n",
       "    (encoder): BertEncoder(\n",
       "      (layer): ModuleList(\n",
       "        (0-11): 12 x BertLayer(\n",
       "          (attention): BertAttention(\n",
       "            (self): BertSdpaSelfAttention(\n",
       "              (query): Linear(in_features=768, out_features=768, bias=True)\n",
       "              (key): Linear(in_features=768, out_features=768, bias=True)\n",
       "              (value): Linear(in_features=768, out_features=768, bias=True)\n",
       "              (dropout): Dropout(p=0.1, inplace=False)\n",
       "            )\n",
       "            (output): BertSelfOutput(\n",
       "              (dense): Linear(in_features=768, out_features=768, bias=True)\n",
       "              (LayerNorm): LayerNorm((768,), eps=1e-12, elementwise_affine=True)\n",
       "              (dropout): Dropout(p=0.1, inplace=False)\n",
       "            )\n",
       "          )\n",
       "          (intermediate): BertIntermediate(\n",
       "            (dense): Linear(in_features=768, out_features=3072, bias=True)\n",
       "            (intermediate_act_fn): GELUActivation()\n",
       "          )\n",
       "          (output): BertOutput(\n",
       "            (dense): Linear(in_features=3072, out_features=768, bias=True)\n",
       "            (LayerNorm): LayerNorm((768,), eps=1e-12, elementwise_affine=True)\n",
       "            (dropout): Dropout(p=0.1, inplace=False)\n",
       "          )\n",
       "        )\n",
       "      )\n",
       "    )\n",
       "    (pooler): BertPooler(\n",
       "      (dense): Linear(in_features=768, out_features=768, bias=True)\n",
       "      (activation): Tanh()\n",
       "    )\n",
       "  )\n",
       "  (dropout): Dropout(p=0.1, inplace=False)\n",
       "  (classifier): Linear(in_features=768, out_features=3, bias=True)\n",
       ")"
      ]
     },
     "execution_count": 11,
     "metadata": {},
     "output_type": "execute_result"
    }
   ],
   "source": [
    "# Load BERT model\n",
    "model = BertForSequenceClassification.from_pretrained(\"bert-base-uncased\", num_labels=3)  # 3 classes: Fake, Real, Unverified\n",
    "\n",
    "# Move model to GPU if available \"MPS\" for mac \"cuda\" for NVIDIA\n",
    "if torch.cuda.is_available():\n",
    "    device = \"cuda\"\n",
    "elif torch.backends.mps.is_available():\n",
    "    device = \"mps\"\n",
    "else:\n",
    "    device = \"cpu\"\n",
    "model.to(device)"
   ]
  },
  {
   "cell_type": "code",
   "execution_count": null,
   "metadata": {},
   "outputs": [
    {
     "name": "stdout",
     "output_type": "stream",
     "text": [
      "CUDA available: False\n",
      "MPS available: True\n"
     ]
    }
   ],
   "source": []
  },
  {
   "cell_type": "code",
   "execution_count": null,
   "metadata": {},
   "outputs": [],
   "source": []
  }
 ],
 "metadata": {
  "kernelspec": {
   "display_name": "Python 3",
   "language": "python",
   "name": "python3"
  },
  "language_info": {
   "codemirror_mode": {
    "name": "ipython",
    "version": 3
   },
   "file_extension": ".py",
   "mimetype": "text/x-python",
   "name": "python",
   "nbconvert_exporter": "python",
   "pygments_lexer": "ipython3",
   "version": "3.11.0"
  }
 },
 "nbformat": 4,
 "nbformat_minor": 2
}
